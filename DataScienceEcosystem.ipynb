{
 "cells": [
  {
   "cell_type": "markdown",
   "id": "412b5de5",
   "metadata": {},
   "source": [
    "### 1: Data Science Tools and Ecosystem "
   ]
  },
  {
   "cell_type": "markdown",
   "id": "a4d237dd",
   "metadata": {},
   "source": [
    "### 2: In thsi notebook, Data Science Tools and Ecosystem are Summarized "
   ]
  },
  {
   "cell_type": "markdown",
   "id": "a5559d8e",
   "metadata": {},
   "source": [
    "### 3: Sum of the popular language that Data Scientist use are: \n",
    "* Python \n",
    "* Pandas \n",
    "* Skikit Learn"
   ]
  },
  {
   "cell_type": "markdown",
   "id": "1415bad8",
   "metadata": {},
   "source": [
    "### 9: List of popular languages for data science "
   ]
  },
  {
   "cell_type": "markdown",
   "id": "2538b7fc",
   "metadata": {},
   "source": [
    "### 4: Some of the commonly used libraries used by Data Scientist include: \n",
    "* import pandas as pd \n",
    "* import numpy as np \n",
    "* import matplotlib.pyplot as plt "
   ]
  },
  {
   "cell_type": "markdown",
   "id": "cb62681d",
   "metadata": {},
   "source": [
    "### 5: Data Science Tools \n",
    "| Jupyter | <br>\n",
    "| Visual Code | <br>\n",
    "| Hugging Face | <br>"
   ]
  },
  {
   "cell_type": "markdown",
   "id": "aebb7358",
   "metadata": {},
   "source": [
    "### 6: Below are a few examples of evaluating arithmetic expressions in Python\n"
   ]
  },
  {
   "cell_type": "code",
   "execution_count": 2,
   "id": "a5c123ed",
   "metadata": {},
   "outputs": [
    {
     "data": {
      "text/plain": [
       "17"
      ]
     },
     "execution_count": 2,
     "metadata": {},
     "output_type": "execute_result"
    }
   ],
   "source": [
    "### 7: This a simple arithmetic expressions to multiply then add interger\n",
    "(3*4)+5"
   ]
  },
  {
   "cell_type": "code",
   "execution_count": 3,
   "id": "9dddbe32",
   "metadata": {},
   "outputs": [
    {
     "data": {
      "text/plain": [
       "3.3333333333333335"
      ]
     },
     "execution_count": 3,
     "metadata": {},
     "output_type": "execute_result"
    }
   ],
   "source": [
    "### 8: This will convert 200 minutes to hours by dividing by 60 \n",
    "200/60"
   ]
  },
  {
   "cell_type": "markdown",
   "id": "16192b6d",
   "metadata": {},
   "source": [
    "## Author <br> \n",
    "## Sunil Verma "
   ]
  },
  {
   "cell_type": "code",
   "execution_count": null,
   "id": "f5242cf2",
   "metadata": {},
   "outputs": [],
   "source": []
  },
  {
   "cell_type": "code",
   "execution_count": null,
   "id": "187d559c",
   "metadata": {},
   "outputs": [],
   "source": []
  },
  {
   "cell_type": "code",
   "execution_count": null,
   "id": "85985979",
   "metadata": {},
   "outputs": [],
   "source": []
  },
  {
   "cell_type": "code",
   "execution_count": null,
   "id": "133f3b53",
   "metadata": {},
   "outputs": [],
   "source": []
  },
  {
   "cell_type": "code",
   "execution_count": null,
   "id": "f4a17478",
   "metadata": {},
   "outputs": [],
   "source": []
  }
 ],
 "metadata": {
  "kernelspec": {
   "display_name": "Python 3 (ipykernel)",
   "language": "python",
   "name": "python3"
  },
  "language_info": {
   "codemirror_mode": {
    "name": "ipython",
    "version": 3
   },
   "file_extension": ".py",
   "mimetype": "text/x-python",
   "name": "python",
   "nbconvert_exporter": "python",
   "pygments_lexer": "ipython3",
   "version": "3.9.21"
  }
 },
 "nbformat": 4,
 "nbformat_minor": 5
}
